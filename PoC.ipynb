{
 "cells": [
  {
   "cell_type": "code",
   "execution_count": 47,
   "id": "6a9514a9-5577-4237-ab8d-5ea1519dff73",
   "metadata": {},
   "outputs": [],
   "source": [
    "import numpy as np\n",
    "import pandas as pd\n",
    "import matplotlib.pyplot as plt"
   ]
  },
  {
   "cell_type": "markdown",
   "id": "b440a865-f997-4a7a-9630-b8579a3e3f02",
   "metadata": {},
   "source": [
    "We'll be scraping data off of Remax's website and building a linear regression model to predict house prices based on 3 given features:\n",
    "\n",
    "    - House area (in squared meters);\n",
    "    - Number of bedrooms;\n",
    "    - Number of toilets."
   ]
  },
  {
   "cell_type": "code",
   "execution_count": 153,
   "id": "58cbbaa5-a8ca-4836-821c-d070e5c15fe0",
   "metadata": {},
   "outputs": [
    {
     "name": "stdout",
     "output_type": "stream",
     "text": [
      "No more pages to navigate. Closing driver.\n"
     ]
    }
   ],
   "source": [
    "from selenium import webdriver\n",
    "from selenium.webdriver.common.by import By\n",
    "from selenium.webdriver.chrome.service import Service\n",
    "from selenium.webdriver.chrome.options import Options\n",
    "from selenium.webdriver.support.ui import WebDriverWait\n",
    "from selenium.webdriver.support import expected_conditions as EC\n",
    "from webdriver_manager.chrome import ChromeDriverManager\n",
    "import pandas as pd\n",
    "import time\n",
    "\n",
    "options = Options()\n",
    "options.add_experimental_option(\"detach\", True)\n",
    "\n",
    "driver = webdriver.Chrome(service=Service(ChromeDriverManager().install()), options=options)\n",
    "\n",
    "URL = \"https://remax.pt/comprar?searchQueryState=%7B%22regionName%22:%22lisboa%22,%22businessType%22:1,%22page%22:1,%22regionID%22:%22%22,%22regionType%22:%22%22,%22sort%22:%7B%22fieldToSort%22:%22PublishDate%22,%22order%22:1%7D,%22mapIsOpen%22:false%7D\"\n",
    "driver.get(URL)\n",
    "\n",
    "listings_data = []\n",
    "\n",
    "while True:\n",
    "    listings = WebDriverWait(driver, 10).until(\n",
    "        EC.presence_of_all_elements_located((By.CSS_SELECTOR, 'div.col-12.col-sm-6.col-md-6.col-lg-4.col-xl-3.result'))\n",
    "    )\n",
    "    \n",
    "    for listing in listings:\n",
    "        # Extract the price\n",
    "        price = listing.find_element(By.CSS_SELECTOR, 'p.listing-price span').text\n",
    "    \n",
    "        # Extract the address\n",
    "        address = listing.find_element(By.CSS_SELECTOR, 'h2.listing-address span').text\n",
    "    \n",
    "        # Extract the square meters\n",
    "        square_meters = listing.find_element(By.CSS_SELECTOR, 'li.listing-area').text.split()[0]\n",
    "        \n",
    "        # Extract the number of bedrooms\n",
    "        bedrooms = listing.find_element(By.CSS_SELECTOR, 'li.listing-bedroom').text.split()[0]\n",
    "        \n",
    "        # Extract the number of bathrooms\n",
    "        bathrooms = listing.find_element(By.CSS_SELECTOR, 'li.listing-bathroom').text.split()[0]\n",
    "    \n",
    "        listings_data.append({\n",
    "            'Price': price,\n",
    "            'Square Meters': square_meters,\n",
    "            'Address': address,\n",
    "            'Bedrooms': bedrooms,\n",
    "            'Bathrooms': bathrooms\n",
    "        })\n",
    "    \n",
    "    # Attempt to find the \"Next\" button; if it's not disabled, click it\n",
    "    try:\n",
    "        next_button = driver.find_element(By.CSS_SELECTOR, 'li.arrow.page-item:not(.disabled) a.page-link[role=\"button\"] .icon-right')\n",
    "        if next_button:\n",
    "            driver.execute_script(\"arguments[0].click();\", next_button)\n",
    "            time.sleep(3)  # Wait for the page to load\n",
    "        else:\n",
    "            print(\"Reached the last page.\")\n",
    "            break\n",
    "    except NoSuchElementException:\n",
    "        print(\"No more pages to navigate. Closing driver.\")\n",
    "        break\n",
    "\n",
    "df = pd.DataFrame(listings_data)\n",
    "\n",
    "current_date = datetime.now().strftime('%d_%B_%Y')\n",
    "df.to_csv(f'{current_date}_remax_lisbon_listings.csv')\n",
    "\n",
    "driver.quit()"
   ]
  },
  {
   "cell_type": "markdown",
   "id": "0ca8c0c6-bb0a-476e-874c-0f9ac0f8dc86",
   "metadata": {},
   "source": [
    "## Data Analysis"
   ]
  },
  {
   "cell_type": "code",
   "execution_count": 138,
   "id": "f9f870cf-c23f-4271-a32d-a68f3c773df3",
   "metadata": {},
   "outputs": [
    {
     "data": {
      "text/html": [
       "<div>\n",
       "<style scoped>\n",
       "    .dataframe tbody tr th:only-of-type {\n",
       "        vertical-align: middle;\n",
       "    }\n",
       "\n",
       "    .dataframe tbody tr th {\n",
       "        vertical-align: top;\n",
       "    }\n",
       "\n",
       "    .dataframe thead th {\n",
       "        text-align: right;\n",
       "    }\n",
       "</style>\n",
       "<table border=\"1\" class=\"dataframe\">\n",
       "  <thead>\n",
       "    <tr style=\"text-align: right;\">\n",
       "      <th></th>\n",
       "      <th>Price</th>\n",
       "      <th>Square Meters</th>\n",
       "      <th>Address</th>\n",
       "      <th>Bedrooms</th>\n",
       "      <th>Bathrooms</th>\n",
       "    </tr>\n",
       "  </thead>\n",
       "  <tbody>\n",
       "    <tr>\n",
       "      <th>0</th>\n",
       "      <td>460 000 €</td>\n",
       "      <td>--</td>\n",
       "      <td>Cascais, Alcabideche</td>\n",
       "      <td>--</td>\n",
       "      <td>--</td>\n",
       "    </tr>\n",
       "    <tr>\n",
       "      <th>1</th>\n",
       "      <td>490 000 €</td>\n",
       "      <td>--</td>\n",
       "      <td>Cascais, Alcabideche</td>\n",
       "      <td>--</td>\n",
       "      <td>--</td>\n",
       "    </tr>\n",
       "    <tr>\n",
       "      <th>2</th>\n",
       "      <td>247 000 €</td>\n",
       "      <td>72</td>\n",
       "      <td>Odivelas, Odivelas</td>\n",
       "      <td>3</td>\n",
       "      <td>2</td>\n",
       "    </tr>\n",
       "    <tr>\n",
       "      <th>3</th>\n",
       "      <td>540 000 €</td>\n",
       "      <td>72</td>\n",
       "      <td>Cascais, Cascais e Estoril</td>\n",
       "      <td>2</td>\n",
       "      <td>2</td>\n",
       "    </tr>\n",
       "    <tr>\n",
       "      <th>4</th>\n",
       "      <td>350 000 €</td>\n",
       "      <td>130</td>\n",
       "      <td>Lisboa, Arroios</td>\n",
       "      <td>9</td>\n",
       "      <td>2</td>\n",
       "    </tr>\n",
       "    <tr>\n",
       "      <th>...</th>\n",
       "      <td>...</td>\n",
       "      <td>...</td>\n",
       "      <td>...</td>\n",
       "      <td>...</td>\n",
       "      <td>...</td>\n",
       "    </tr>\n",
       "    <tr>\n",
       "      <th>1995</th>\n",
       "      <td>399 000 €</td>\n",
       "      <td>130</td>\n",
       "      <td>Oeiras, Oeiras e São Julião da Barra, Paço de ...</td>\n",
       "      <td>3</td>\n",
       "      <td>2</td>\n",
       "    </tr>\n",
       "    <tr>\n",
       "      <th>1996</th>\n",
       "      <td>265 000 €</td>\n",
       "      <td>100</td>\n",
       "      <td>Lisboa, Arroios</td>\n",
       "      <td>--</td>\n",
       "      <td>2</td>\n",
       "    </tr>\n",
       "    <tr>\n",
       "      <th>1997</th>\n",
       "      <td>198 000 €</td>\n",
       "      <td>64</td>\n",
       "      <td>Sintra, Cacém e São Marcos</td>\n",
       "      <td>2</td>\n",
       "      <td>1</td>\n",
       "    </tr>\n",
       "    <tr>\n",
       "      <th>1998</th>\n",
       "      <td>449 000 €</td>\n",
       "      <td>118</td>\n",
       "      <td>Loures, Santa Iria de Azoia, São João da Talha...</td>\n",
       "      <td>3</td>\n",
       "      <td>2</td>\n",
       "    </tr>\n",
       "    <tr>\n",
       "      <th>1999</th>\n",
       "      <td>325 000 €</td>\n",
       "      <td>78</td>\n",
       "      <td>Lisboa, Olivais</td>\n",
       "      <td>3</td>\n",
       "      <td>2</td>\n",
       "    </tr>\n",
       "  </tbody>\n",
       "</table>\n",
       "<p>2000 rows × 5 columns</p>\n",
       "</div>"
      ],
      "text/plain": [
       "          Price Square Meters  \\\n",
       "0     460 000 €            --   \n",
       "1     490 000 €            --   \n",
       "2     247 000 €            72   \n",
       "3     540 000 €            72   \n",
       "4     350 000 €           130   \n",
       "...         ...           ...   \n",
       "1995  399 000 €           130   \n",
       "1996  265 000 €           100   \n",
       "1997  198 000 €            64   \n",
       "1998  449 000 €           118   \n",
       "1999  325 000 €            78   \n",
       "\n",
       "                                                Address Bedrooms Bathrooms  \n",
       "0                                  Cascais, Alcabideche       --        --  \n",
       "1                                  Cascais, Alcabideche       --        --  \n",
       "2                                    Odivelas, Odivelas        3         2  \n",
       "3                            Cascais, Cascais e Estoril        2         2  \n",
       "4                                       Lisboa, Arroios        9         2  \n",
       "...                                                 ...      ...       ...  \n",
       "1995  Oeiras, Oeiras e São Julião da Barra, Paço de ...        3         2  \n",
       "1996                                    Lisboa, Arroios       --         2  \n",
       "1997                         Sintra, Cacém e São Marcos        2         1  \n",
       "1998  Loures, Santa Iria de Azoia, São João da Talha...        3         2  \n",
       "1999                                    Lisboa, Olivais        3         2  \n",
       "\n",
       "[2000 rows x 5 columns]"
      ]
     },
     "execution_count": 138,
     "metadata": {},
     "output_type": "execute_result"
    }
   ],
   "source": [
    "df = pd.read_csv('listings.csv')\n",
    "df"
   ]
  },
  {
   "cell_type": "code",
   "execution_count": 117,
   "id": "5e567916-039e-48ca-ae88-6048d3b9cc21",
   "metadata": {},
   "outputs": [],
   "source": [
    "# -- Data Processing --\n",
    "\n",
    "# remove rows with missing values (i.e. '--')\n",
    "df = df.apply(lambda x: x.replace('--', np.nan), axis=0)\n",
    "\n",
    "# remove spaces and the euro symbol\n",
    "df['Price'] = df['Price'].apply(lambda x: x.replace(\" \", \"\").replace(\"€\", \"\"))\n",
    "\n",
    "# replace 'preçosobconsulta' with NaN to avoid conversion errors\n",
    "df['Price'] = df['Price'].replace('preçosobconsulta', np.nan)\n",
    "\n",
    "# convert numerical variables to float\n",
    "df['Price'] = df['Price'].astype(float)\n",
    "df['Square Meters'] = df['Square Meters'].astype(float)\n",
    "df['Bedrooms'] = df['Bedrooms'].astype(float)\n",
    "df['Bathrooms'] = df['Bathrooms'].astype(float)"
   ]
  },
  {
   "cell_type": "code",
   "execution_count": 118,
   "id": "23299d49-19a7-4172-a2c0-3f5820af3361",
   "metadata": {},
   "outputs": [],
   "source": [
    "# remove rows with missing values\n",
    "df = df.dropna()"
   ]
  },
  {
   "cell_type": "code",
   "execution_count": 119,
   "id": "8cbad67c-8f1f-43fc-85c9-4e616d366462",
   "metadata": {},
   "outputs": [
    {
     "data": {
      "image/png": "[encoded data removed]",
      "text/plain": [
       "<Figure size 1200x600 with 2 Axes>"
      ]
     },
     "metadata": {},
     "output_type": "display_data"
    },
    {
     "data": {
      "text/plain": [
       "count    1.626000e+03\n",
       "mean     5.224897e+05\n",
       "std      6.586582e+05\n",
       "min      3.500000e+04\n",
       "25%      2.150000e+05\n",
       "50%      3.299950e+05\n",
       "75%      5.800000e+05\n",
       "max      1.200000e+07\n",
       "Name: Price, dtype: float64"
      ]
     },
     "execution_count": 119,
     "metadata": {},
     "output_type": "execute_result"
    }
   ],
   "source": [
    "fig, axs = plt.subplots(1, 2, figsize=(12, 6))\n",
    "\n",
    "# Plot histogram\n",
    "df.Price.plot(kind='hist', edgecolor='white', bins=100, ax=axs[0])\n",
    "axs[0].set_title('Histogram of Price')\n",
    "\n",
    "# Plot boxplot in log scale\n",
    "df.Price.plot(kind='box', ax=axs[1])\n",
    "axs[1].set_title('Boxplot of Price (Log Scale)')\n",
    "axs[1].set_yscale('log')\n",
    "\n",
    "plt.tight_layout()\n",
    "plt.show()\n",
    "\n",
    "df.Price.describe()"
   ]
  },
  {
   "cell_type": "code",
   "execution_count": 133,
   "id": "5154d62e-27e0-4066-a2e6-6bfd7d028c5d",
   "metadata": {},
   "outputs": [
    {
     "data": {
      "image/png": "[encoded data removed]",
      "text/plain": [
       "<Figure size 640x480 with 1 Axes>"
      ]
     },
     "metadata": {},
     "output_type": "display_data"
    },
    {
     "data": {
      "text/plain": [
       "count    1626.000000\n",
       "mean        2.760763\n",
       "std         1.417677\n",
       "min         0.000000\n",
       "25%         2.000000\n",
       "50%         3.000000\n",
       "75%         3.000000\n",
       "max        15.000000\n",
       "Name: Bedrooms, dtype: float64"
      ]
     },
     "execution_count": 133,
     "metadata": {},
     "output_type": "execute_result"
    }
   ],
   "source": [
    "# Plot histogram\n",
    "value_counts = df.Bedrooms.value_counts()\n",
    "value_counts.index = value_counts.index.astype(int)\n",
    "value_counts.sort_index().plot(kind='bar')\n",
    "plt.title('Number of Bedrooms')\n",
    "plt.xticks(rotation=0)\n",
    "\n",
    "plt.tight_layout()\n",
    "plt.show()\n",
    "\n",
    "df.Bedrooms.describe()"
   ]
  },
  {
   "cell_type": "code",
   "execution_count": 135,
   "id": "705d9fed-18d5-40a4-9b01-a01a00c50418",
   "metadata": {},
   "outputs": [
    {
     "data": {
      "image/png": "[encoded data removed]",
      "text/plain": [
       "<Figure size 640x480 with 1 Axes>"
      ]
     },
     "metadata": {},
     "output_type": "display_data"
    },
    {
     "data": {
      "text/plain": [
       "count    1626.000000\n",
       "mean        2.760763\n",
       "std         1.417677\n",
       "min         0.000000\n",
       "25%         2.000000\n",
       "50%         3.000000\n",
       "75%         3.000000\n",
       "max        15.000000\n",
       "Name: Bedrooms, dtype: float64"
      ]
     },
     "execution_count": 135,
     "metadata": {},
     "output_type": "execute_result"
    }
   ],
   "source": [
    "# Plot histogram\n",
    "value_counts = df.Bathrooms.value_counts()\n",
    "value_counts.index = value_counts.index.astype(int)\n",
    "value_counts.sort_index().plot(kind='bar')\n",
    "plt.title('Number of Toilets')\n",
    "plt.xticks(rotation=0)\n",
    "\n",
    "plt.tight_layout()\n",
    "plt.show()\n",
    "\n",
    "df.Bedrooms.describe()"
   ]
  },
  {
   "cell_type": "markdown",
   "id": "3f27aacc-f887-4d43-b3ad-968d9d02af7b",
   "metadata": {},
   "source": [
    "## Lisbon House Price Predictor"
   ]
  },
  {
   "cell_type": "code",
   "execution_count": null,
   "id": "68b2be79-094a-43d5-bceb-2624446cde37",
   "metadata": {},
   "outputs": [],
   "source": []
  }
 ],
 "metadata": {
  "kernelspec": {
   "display_name": "restaurant_env",
   "language": "python",
   "name": "restaurant_env"
  },
  "language_info": {
   "codemirror_mode": {
    "name": "ipython",
    "version": 3
   },
   "file_extension": ".py",
   "mimetype": "text/x-python",
   "name": "python",
   "nbconvert_exporter": "python",
   "pygments_lexer": "ipython3",
   "version": "3.11.4"
  }
 },
 "nbformat": 4,
 "nbformat_minor": 5
}
