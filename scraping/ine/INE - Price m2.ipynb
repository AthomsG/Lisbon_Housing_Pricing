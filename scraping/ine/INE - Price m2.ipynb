{
 "cells": [
  {
   "cell_type": "code",
   "execution_count": 1,
   "id": "5bddbdaa-4296-488b-8854-87e0cc0a53e9",
   "metadata": {},
   "outputs": [],
   "source": [
    "import requests\n",
    "from tqdm import tqdm\n",
    "import matplotlib.pyplot as plt\n",
    "import json\n",
    "import pandas as pd\n",
    "import numpy as np\n",
    "import ipywidgets as widgets\n",
    "\n",
    "import warnings\n",
    "warnings.filterwarnings(\"ignore\")"
   ]
  },
  {
   "cell_type": "code",
   "execution_count": 2,
   "id": "20d509f9-0e68-46f0-bc4a-a5a4d6177fd5",
   "metadata": {},
   "outputs": [],
   "source": [
    "# Function to get metadata for a specific indicator\n",
    "def get_indicator_metadata(varcd, lang=\"EN\"):\n",
    "    base_url = \"https://www.ine.pt\"\n",
    "    endpoint = f\"{base_url}/ine/json_indicador/pindicaMeta.jsp\"\n",
    "    params = {\n",
    "        \"varcd\": varcd,\n",
    "        \"lang\": lang\n",
    "    }\n",
    "    \n",
    "    response = requests.get(endpoint, params=params)\n",
    "    if response.status_code == 200:\n",
    "        return response.json()\n",
    "    else:\n",
    "        response.raise_for_status()\n",
    "\n",
    "# Function to fetch data from the INE API with variable dimensions\n",
    "def fetch_data(varcd, dims=None, lang=\"EN\"):\n",
    "    base_url = \"https://www.ine.pt/ine/json_indicador/pindica.jsp\"\n",
    "    params = {\n",
    "        \"op\": 2,\n",
    "        \"varcd\": varcd,\n",
    "        \"lang\": lang\n",
    "    }\n",
    "    if dims:\n",
    "        for i, dim in enumerate(dims, start=1):\n",
    "            params[f\"Dim{i}\"] = dim\n",
    "    \n",
    "    response = requests.get(base_url, params=params)\n",
    "    data = response.json()[0]\n",
    "    return data"
   ]
  },
  {
   "cell_type": "code",
   "execution_count": 3,
   "id": "e7b3ad93-ef90-4bc3-91c8-3631071d9c4d",
   "metadata": {},
   "outputs": [
    {
     "name": "stderr",
     "output_type": "stream",
     "text": [
      "100%|███████████████████████████████████████████| 12/12 [00:06<00:00,  1.72it/s]\n"
     ]
    }
   ],
   "source": [
    "varcd = \"0011369\"   # Valor mediano das vendas por m2 de alojamentos familiares nos últimos 12 meses - \n",
    "# more indicators at http://smi.ine.pt/Indicador\n",
    "dims  = ['S5A20234', 'S5A20233', 'S5A20232', 'S5A20231', 'S5A20224', 'S5A20223', 'S5A20222', 'S5A20221', 'S5A20214', 'S5A20213', 'S5A20212', 'S5A20211'] # Quarters\n",
    "\n",
    "dataset =  {'city': [],\n",
    "            'quarter': [],\n",
    "            'square_price': []}\n",
    "\n",
    "for dim in tqdm(dims):\n",
    "    data = fetch_data(varcd, dims=[dim])\n",
    "    quarter = list(data['Dados'].keys())[0] # get the quarter name\n",
    "    for datapoint in data['Dados'][quarter]: # loop over all cities\n",
    "        dataset['quarter'].append(quarter)\n",
    "        dataset['city'].append(datapoint['geodsg'])\n",
    "        dataset['square_price'].append(datapoint.get('valor', None))"
   ]
  },
  {
   "cell_type": "code",
   "execution_count": 4,
   "id": "a54b466b-f1ea-427e-b9b9-a84f29d4597b",
   "metadata": {},
   "outputs": [],
   "source": [
    "df = pd.DataFrame(dataset)"
   ]
  },
  {
   "cell_type": "code",
   "execution_count": 5,
   "id": "6a21b64f-0232-4f49-83e4-7018bc2efa2f",
   "metadata": {},
   "outputs": [
    {
     "data": {
      "text/html": [
       "<div>\n",
       "<style scoped>\n",
       "    .dataframe tbody tr th:only-of-type {\n",
       "        vertical-align: middle;\n",
       "    }\n",
       "\n",
       "    .dataframe tbody tr th {\n",
       "        vertical-align: top;\n",
       "    }\n",
       "\n",
       "    .dataframe thead th {\n",
       "        text-align: right;\n",
       "    }\n",
       "</style>\n",
       "<table border=\"1\" class=\"dataframe\">\n",
       "  <thead>\n",
       "    <tr style=\"text-align: right;\">\n",
       "      <th></th>\n",
       "      <th>city</th>\n",
       "      <th>quarter</th>\n",
       "      <th>square_price</th>\n",
       "    </tr>\n",
       "  </thead>\n",
       "  <tbody>\n",
       "    <tr>\n",
       "      <th>83</th>\n",
       "      <td>Porto</td>\n",
       "      <td>4th Quarter 2023</td>\n",
       "      <td>2833</td>\n",
       "    </tr>\n",
       "    <tr>\n",
       "      <th>178</th>\n",
       "      <td>Porto</td>\n",
       "      <td>3rd Quarter 2023</td>\n",
       "      <td>3104</td>\n",
       "    </tr>\n",
       "    <tr>\n",
       "      <th>271</th>\n",
       "      <td>Porto</td>\n",
       "      <td>2nd Quarter 2023</td>\n",
       "      <td>2857</td>\n",
       "    </tr>\n",
       "    <tr>\n",
       "      <th>363</th>\n",
       "      <td>Porto</td>\n",
       "      <td>1st Quarter 2023</td>\n",
       "      <td>2652</td>\n",
       "    </tr>\n",
       "    <tr>\n",
       "      <th>461</th>\n",
       "      <td>Porto</td>\n",
       "      <td>4th Quarter 2022</td>\n",
       "      <td>2640</td>\n",
       "    </tr>\n",
       "    <tr>\n",
       "      <th>554</th>\n",
       "      <td>Porto</td>\n",
       "      <td>3rd Quarter 2022</td>\n",
       "      <td>2603</td>\n",
       "    </tr>\n",
       "    <tr>\n",
       "      <th>649</th>\n",
       "      <td>Porto</td>\n",
       "      <td>2nd Quarter 2022</td>\n",
       "      <td>2519</td>\n",
       "    </tr>\n",
       "    <tr>\n",
       "      <th>743</th>\n",
       "      <td>Porto</td>\n",
       "      <td>1st Quarter 2022</td>\n",
       "      <td>2495</td>\n",
       "    </tr>\n",
       "    <tr>\n",
       "      <th>836</th>\n",
       "      <td>Porto</td>\n",
       "      <td>4th Quarter 2021</td>\n",
       "      <td>2341</td>\n",
       "    </tr>\n",
       "    <tr>\n",
       "      <th>931</th>\n",
       "      <td>Porto</td>\n",
       "      <td>3rd Quarter 2021</td>\n",
       "      <td>2324</td>\n",
       "    </tr>\n",
       "    <tr>\n",
       "      <th>1021</th>\n",
       "      <td>Porto</td>\n",
       "      <td>2nd Quarter 2021</td>\n",
       "      <td>2125</td>\n",
       "    </tr>\n",
       "    <tr>\n",
       "      <th>1120</th>\n",
       "      <td>Porto</td>\n",
       "      <td>1st Quarter 2021</td>\n",
       "      <td>2282</td>\n",
       "    </tr>\n",
       "  </tbody>\n",
       "</table>\n",
       "</div>"
      ],
      "text/plain": [
       "       city           quarter square_price\n",
       "83    Porto  4th Quarter 2023         2833\n",
       "178   Porto  3rd Quarter 2023         3104\n",
       "271   Porto  2nd Quarter 2023         2857\n",
       "363   Porto  1st Quarter 2023         2652\n",
       "461   Porto  4th Quarter 2022         2640\n",
       "554   Porto  3rd Quarter 2022         2603\n",
       "649   Porto  2nd Quarter 2022         2519\n",
       "743   Porto  1st Quarter 2022         2495\n",
       "836   Porto  4th Quarter 2021         2341\n",
       "931   Porto  3rd Quarter 2021         2324\n",
       "1021  Porto  2nd Quarter 2021         2125\n",
       "1120  Porto  1st Quarter 2021         2282"
      ]
     },
     "execution_count": 5,
     "metadata": {},
     "output_type": "execute_result"
    }
   ],
   "source": [
    "df[df.city=='Porto']"
   ]
  },
  {
   "cell_type": "code",
   "execution_count": 6,
   "id": "a18d5916-2c64-4b3e-8063-2bc6e0b1de00",
   "metadata": {},
   "outputs": [],
   "source": [
    "def plot_price_evolution(df, city):\n",
    "    city_data = df[df.city == city]\n",
    "    city_data.square_price = city_data.square_price.astype(float)\n",
    "\n",
    "    title  = r'Preço de venda por $m^{2}$ em ' + city\n",
    "    xlabel = 'Quarter'\n",
    "    ylabel = 'Preço (em €)'\n",
    "\n",
    "    fig, ax1 = plt.subplots(figsize=(5, 5))\n",
    "\n",
    "    ax1.bar(np.flip(city_data['quarter']), np.flip(city_data['square_price']), color='lightblue', label='Preço por $m^{2}$', zorder=2)\n",
    "    ax1.set_xlabel(xlabel)\n",
    "    ax1.set_ylabel(ylabel)\n",
    "    ax1.set_title(title)\n",
    "\n",
    "    ax1.plot(np.flip(city_data['quarter']), np.flip(city_data['square_price']), color='darkblue', marker='o', linestyle='-', label='Evolução do Preço')\n",
    "\n",
    "    ax1.set_xticklabels(np.flip(city_data['quarter']), rotation=45, ha='right')\n",
    "\n",
    "    ax1.spines['top'].set_visible(False)\n",
    "    ax1.spines['right'].set_visible(False)\n",
    "\n",
    "    ax1.yaxis.grid(True, ls='--')\n",
    "\n",
    "    plt.tight_layout()\n",
    "    plt.show()"
   ]
  },
  {
   "cell_type": "code",
   "execution_count": 7,
   "id": "c29cf899-2c6a-483a-8dfe-12e62d77cfad",
   "metadata": {},
   "outputs": [
    {
     "data": {
      "application/vnd.jupyter.widget-view+json": {
       "model_id": "284749534cfd45f6b46596c18cbf3218",
       "version_major": 2,
       "version_minor": 0
      },
      "text/plain": [
       "interactive(children=(Dropdown(description='City:', index=37, options=('Albufeira', 'Alcochete', 'Alcoutim', '…"
      ]
     },
     "metadata": {},
     "output_type": "display_data"
    },
    {
     "data": {
      "text/plain": [
       "<function __main__.update_plot(city)>"
      ]
     },
     "execution_count": 7,
     "metadata": {},
     "output_type": "execute_result"
    }
   ],
   "source": [
    "city_dropdown = widgets.Dropdown(\n",
    "    options=[city for city in np.sort(df.city.unique())],\n",
    "    value='Lisboa',\n",
    "    description='City:',\n",
    "    disabled=False,\n",
    ")\n",
    "\n",
    "def update_plot(city):\n",
    "    plot_price_evolution(df, city)\n",
    "\n",
    "widgets.interact(update_plot, city=city_dropdown)"
   ]
  }
 ],
 "metadata": {
  "kernelspec": {
   "display_name": "TransEVT_env",
   "language": "python",
   "name": "transevt_env"
  },
  "language_info": {
   "codemirror_mode": {
    "name": "ipython",
    "version": 3
   },
   "file_extension": ".py",
   "mimetype": "text/x-python",
   "name": "python",
   "nbconvert_exporter": "python",
   "pygments_lexer": "ipython3",
   "version": "3.11.4"
  }
 },
 "nbformat": 4,
 "nbformat_minor": 5
}
