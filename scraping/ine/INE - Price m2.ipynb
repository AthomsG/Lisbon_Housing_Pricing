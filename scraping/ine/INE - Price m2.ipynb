{
 "cells": [
  {
   "cell_type": "code",
   "execution_count": null,
   "id": "5bddbdaa-4296-488b-8854-87e0cc0a53e9",
   "metadata": {},
   "outputs": [],
   "source": [
    "import requests\n",
    "from tqdm import tqdm\n",
    "import matplotlib.pyplot as plt\n",
    "import json\n",
    "import pandas as pd\n",
    "import numpy as np"
   ]
  },
  {
   "cell_type": "code",
   "execution_count": null,
   "id": "20d509f9-0e68-46f0-bc4a-a5a4d6177fd5",
   "metadata": {},
   "outputs": [],
   "source": [
    "# Function to get metadata for a specific indicator\n",
    "def get_indicator_metadata(varcd, lang=\"EN\"):\n",
    "    base_url = \"https://www.ine.pt\"\n",
    "    endpoint = f\"{base_url}/ine/json_indicador/pindicaMeta.jsp\"\n",
    "    params = {\n",
    "        \"varcd\": varcd,\n",
    "        \"lang\": lang\n",
    "    }\n",
    "    \n",
    "    response = requests.get(endpoint, params=params)\n",
    "    if response.status_code == 200:\n",
    "        return response.json()\n",
    "    else:\n",
    "        response.raise_for_status()\n",
    "\n",
    "# Function to fetch data from the INE API with variable dimensions\n",
    "def fetch_data(varcd, dims=None, lang=\"EN\"):\n",
    "    base_url = \"https://www.ine.pt/ine/json_indicador/pindica.jsp\"\n",
    "    params = {\n",
    "        \"op\": 2,\n",
    "        \"varcd\": varcd,\n",
    "        \"lang\": lang\n",
    "    }\n",
    "    if dims:\n",
    "        for i, dim in enumerate(dims, start=1):\n",
    "            params[f\"Dim{i}\"] = dim\n",
    "    \n",
    "    response = requests.get(base_url, params=params)\n",
    "    data = response.json()[0]\n",
    "    return data"
   ]
  },
  {
   "cell_type": "code",
   "execution_count": null,
   "id": "e7b3ad93-ef90-4bc3-91c8-3631071d9c4d",
   "metadata": {},
   "outputs": [],
   "source": [
    "varcd = \"0011369\"   # Valor mediano das vendas por m2 de alojamentos familiares nos últimos 12 meses - \n",
    "# more indicators at http://smi.ine.pt/Indicador\n",
    "dims  = ['S5A20234', 'S5A20233', 'S5A20232', 'S5A20231', 'S5A20224', 'S5A20223', 'S5A20222', 'S5A20221', 'S5A20214', 'S5A20213', 'S5A20212', 'S5A20211'] # Quarters\n",
    "\n",
    "dataset =  {'city': [],\n",
    "            'quarter': [],\n",
    "            'square_price': []}\n",
    "\n",
    "for dim in tqdm(dims):\n",
    "    data = fetch_data(varcd, dims=[dim])\n",
    "    quarter = list(data['Dados'].keys())[0] # get the quarter name\n",
    "    for datapoint in data['Dados'][quarter]: # loop over all cities\n",
    "        dataset['quarter'].append(quarter)\n",
    "        dataset['city'].append(datapoint['geodsg'])\n",
    "        dataset['square_price'].append(datapoint.get('valor', None))"
   ]
  },
  {
   "cell_type": "code",
   "execution_count": null,
   "id": "a54b466b-f1ea-427e-b9b9-a84f29d4597b",
   "metadata": {},
   "outputs": [],
   "source": [
    "df = pd.DataFrame(dataset)"
   ]
  },
  {
   "cell_type": "code",
   "execution_count": null,
   "id": "6a21b64f-0232-4f49-83e4-7018bc2efa2f",
   "metadata": {},
   "outputs": [],
   "source": [
    "df[df.city=='Porto']"
   ]
  },
  {
   "cell_type": "code",
   "execution_count": null,
   "id": "a18d5916-2c64-4b3e-8063-2bc6e0b1de00",
   "metadata": {},
   "outputs": [],
   "source": [
    "def plot_price_evolution(df, city):\n",
    "    city_data = df[df.city == city]\n",
    "    city_data.square_price = city_data.square_price.astype(float)\n",
    "\n",
    "    title  = r'Preço de venda por $m^{2}$ em ' + city\n",
    "    xlabel = 'Quarter'\n",
    "    ylabel = 'Preço (em €)'\n",
    "\n",
    "    fig, ax1 = plt.subplots(figsize=(5, 5))\n",
    "\n",
    "    ax1.bar(np.flip(city_data['quarter']), np.flip(city_data['square_price']), color='lightblue', label='Preço por $m^{2}$', zorder=2)\n",
    "    ax1.set_xlabel(xlabel)\n",
    "    ax1.set_ylabel(ylabel)\n",
    "    ax1.set_title(title)\n",
    "\n",
    "    ax1.plot(np.flip(city_data['quarter']), np.flip(city_data['square_price']), color='darkblue', marker='o', linestyle='-', label='Evolução do Preço')\n",
    "\n",
    "    ax1.set_xticklabels(np.flip(city_data['quarter']), rotation=45, ha='right')\n",
    "\n",
    "    ax1.spines['top'].set_visible(False)\n",
    "    ax1.spines['right'].set_visible(False)\n",
    "\n",
    "    ax1.yaxis.grid(True, ls='--')\n",
    "\n",
    "    plt.tight_layout()\n",
    "    plt.show()"
   ]
  },
  {
   "cell_type": "code",
   "execution_count": null,
   "id": "ace94f89-78a3-45d9-9a1a-250603555d61",
   "metadata": {},
   "outputs": [],
   "source": [
    "plot_price_evolution(df, 'Lisboa')"
   ]
  }
 ],
 "metadata": {
  "kernelspec": {
   "display_name": "TransEVT",
   "language": "python",
   "name": "transevt"
  },
  "language_info": {
   "codemirror_mode": {
    "name": "ipython",
    "version": 3
   },
   "file_extension": ".py",
   "mimetype": "text/x-python",
   "name": "python",
   "nbconvert_exporter": "python",
   "pygments_lexer": "ipython3",
   "version": "3.11.6"
  }
 },
 "nbformat": 4,
 "nbformat_minor": 5
}
